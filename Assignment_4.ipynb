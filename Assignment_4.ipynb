{
  "nbformat": 4,
  "nbformat_minor": 0,
  "metadata": {
    "colab": {
      "provenance": []
    },
    "kernelspec": {
      "name": "python3",
      "display_name": "Python 3"
    },
    "language_info": {
      "name": "python"
    }
  },
  "cells": [
    {
      "cell_type": "markdown",
      "source": [
        "Question 1\n"
      ],
      "metadata": {
        "id": "utldwb6yp9T7"
      }
    },
    {
      "cell_type": "code",
      "source": [
        "class vehicle:\n",
        "  def __init__(self,vehicals,speed,avg_speed):\n",
        "    self.name_of_vehicle=vehicals\n",
        "    self.max_speed=speed\n",
        "    self.average_speed=avg_speed"
      ],
      "metadata": {
        "id": "IHk4P9MSp_lF"
      },
      "execution_count": 2,
      "outputs": []
    },
    {
      "cell_type": "markdown",
      "source": [
        "\n",
        "Question 2"
      ],
      "metadata": {
        "id": "YVlDroQuqbOS"
      }
    },
    {
      "cell_type": "code",
      "source": [
        "class car(vehicle):\n",
        "  def seating_capacity(self,capacity):\n",
        "    print('name of vehical is {} and capacity is {}'.format(self.name_of_vehicle,capacity))\n",
        "a=car(\"Toyota Camry\", 180, 25)\n",
        "a.seating_capacity(34)"
      ],
      "metadata": {
        "colab": {
          "base_uri": "https://localhost:8080/"
        },
        "id": "5D2idrAaqeAG",
        "outputId": "8b433e85-4f9f-463b-dc59-1b5a2bf19176"
      },
      "execution_count": 10,
      "outputs": [
        {
          "output_type": "stream",
          "name": "stdout",
          "text": [
            "name of vehical is Toyota Camry and capacity is 34\n"
          ]
        }
      ]
    },
    {
      "cell_type": "markdown",
      "source": [
        "\n",
        "Question 3\n"
      ],
      "metadata": {
        "id": "T4lacgzDs-aG"
      }
    },
    {
      "cell_type": "code",
      "source": [
        "class mother:\n",
        "  pass\n",
        "class father:\n",
        "  pass\n",
        "class child(mother,father):\n",
        "  pass"
      ],
      "metadata": {
        "id": "XrOeqEEAtBaY"
      },
      "execution_count": null,
      "outputs": []
    },
    {
      "cell_type": "markdown",
      "source": [
        "Question 4\n"
      ],
      "metadata": {
        "id": "8XAS0ku9tWcq"
      }
    },
    {
      "cell_type": "code",
      "source": [
        "class atm:\n",
        "  def __init__(self):\n",
        "    self._balance=100\n",
        "    self._pin=\"1000\"\n",
        "  def getter(self):\n",
        "    print(self._balance)\n",
        "  def setter(self,balances):\n",
        "    self._balance=balances\n",
        "  def fun1(self):\n",
        "    pass\n",
        "a=atm()\n",
        "a.setter(300)\n",
        "a.getter()"
      ],
      "metadata": {
        "colab": {
          "base_uri": "https://localhost:8080/"
        },
        "id": "5ykvwKwatZVi",
        "outputId": "215ebeae-e8ff-43f2-867e-53d799345df8"
      },
      "execution_count": 14,
      "outputs": [
        {
          "output_type": "stream",
          "name": "stdout",
          "text": [
            "300\n"
          ]
        }
      ]
    },
    {
      "cell_type": "markdown",
      "source": [
        "Question 5\n"
      ],
      "metadata": {
        "id": "fh7VwedwuvL9"
      }
    },
    {
      "cell_type": "code",
      "source": [
        "class father:\n",
        "  def quality(self):\n",
        "    print(\"honesty\")\n",
        "class child(father):\n",
        "  def quality(self):\n",
        "    print(\"hardworking\")\n",
        "a=child()\n",
        "a.quality()"
      ],
      "metadata": {
        "colab": {
          "base_uri": "https://localhost:8080/"
        },
        "id": "Y6J7CTryuybX",
        "outputId": "cfd71a02-0152-47f8-ff0d-9497467486b4"
      },
      "execution_count": 16,
      "outputs": [
        {
          "output_type": "stream",
          "name": "stdout",
          "text": [
            "hardworking\n"
          ]
        }
      ]
    },
    {
      "cell_type": "markdown",
      "source": [],
      "metadata": {
        "id": "ijKW5Ntas6MJ"
      }
    }
  ]
}